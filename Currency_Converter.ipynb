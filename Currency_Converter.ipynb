{
  "nbformat": 4,
  "nbformat_minor": 0,
  "metadata": {
    "colab": {
      "provenance": []
    },
    "kernelspec": {
      "name": "python3",
      "display_name": "Python 3"
    },
    "language_info": {
      "name": "python"
    }
  },
  "cells": [
    {
      "cell_type": "code",
      "execution_count": 6,
      "metadata": {
        "colab": {
          "base_uri": "https://localhost:8080/"
        },
        "id": "YfOUgEtvBWEi",
        "outputId": "a1b46d8d-2473-44e2-a073-60dc7b8e243c"
      },
      "outputs": [
        {
          "output_type": "stream",
          "name": "stdout",
          "text": [
            "Requirement already satisfied: requests in /usr/local/lib/python3.10/dist-packages (2.31.0)\n",
            "Requirement already satisfied: charset-normalizer<4,>=2 in /usr/local/lib/python3.10/dist-packages (from requests) (3.3.2)\n",
            "Requirement already satisfied: idna<4,>=2.5 in /usr/local/lib/python3.10/dist-packages (from requests) (3.6)\n",
            "Requirement already satisfied: urllib3<3,>=1.21.1 in /usr/local/lib/python3.10/dist-packages (from requests) (2.0.7)\n",
            "Requirement already satisfied: certifi>=2017.4.17 in /usr/local/lib/python3.10/dist-packages (from requests) (2023.11.17)\n"
          ]
        }
      ],
      "source": [
        "pip install requests"
      ]
    },
    {
      "cell_type": "code",
      "source": [
        "import requests\n",
        "\n",
        "API_KEY = 'fca_live_koJJ2n1MCEak7XkB60LSVveRGhXtpNTxIXFBKHAL'\n",
        "BASE_URL = f'https://api.freecurrencyapi.com/v1/latest?apikey={API_KEY}'\n",
        "\n",
        "CURRENCY = [\"USD\", \"CAD\", \"EUR\", \"AUD\", \"CNY\", \"INR\"]\n"
      ],
      "metadata": {
        "id": "QDGnmUh7Bi5K"
      },
      "execution_count": 18,
      "outputs": []
    },
    {
      "cell_type": "code",
      "source": [
        "def convert_currency(base):\n",
        "  currencies = \",\".join(CURRENCY)\n",
        "  url = f\"{BASE_URL}&base_currency={base}&currencies={currencies}\"\n",
        "  try:\n",
        "    response = requests.get(url)\n",
        "    data = response.json()\n",
        "    return data[\"data\"]\n",
        "  except Exception as e:\n",
        "    print(\"Invalid currency.\")\n",
        "    return None\n",
        "\n",
        "while True:\n",
        "\n",
        "  base = input(\"Enter base currency: \").upper()\n",
        "  if base == \"Q\":\n",
        "    break\n",
        "  data = convert_currency(base)\n",
        "  del data[base]\n",
        "\n",
        "  if not data:\n",
        "    continue\n",
        "\n",
        "  for ticker, value in data.items():\n",
        "    print(f\"{ticker} : {value}\")"
      ],
      "metadata": {
        "colab": {
          "base_uri": "https://localhost:8080/"
        },
        "id": "X55N2K0UHfEt",
        "outputId": "0afb9fa7-b6c0-4374-d6c1-15bda6e0c1a6"
      },
      "execution_count": 19,
      "outputs": [
        {
          "name": "stdout",
          "output_type": "stream",
          "text": [
            "Enter base currency: INR\n",
            "AUD : 0.0179564836\n",
            "CAD : 0.0160964817\n",
            "CNY : 0.0857719265\n",
            "EUR : 0.0110417298\n",
            "USD : 0.012033401\n",
            "Enter base currency: usd\n",
            "AUD : 1.49222016\n",
            "CAD : 1.3376502413\n",
            "CNY : 7.1278208475\n",
            "EUR : 0.9175901165\n",
            "INR : 83.1020257939\n",
            "Enter base currency: q\n"
          ]
        }
      ]
    },
    {
      "cell_type": "code",
      "source": [
        "k"
      ],
      "metadata": {
        "id": "IQpWPTiKIJMv"
      },
      "execution_count": null,
      "outputs": []
    }
  ]
}
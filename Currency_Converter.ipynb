{
  "nbformat": 4,
  "nbformat_minor": 0,
  "metadata": {
    "colab": {
      "provenance": [],
      "authorship_tag": "ABX9TyOatj55UJji3HM/xH6rchBR"
    },
    "kernelspec": {
      "name": "python3",
      "display_name": "Python 3"
    },
    "language_info": {
      "name": "python"
    }
  },
  "cells": [
    {
      "cell_type": "code",
      "execution_count": 6,
      "metadata": {
        "colab": {
          "base_uri": "https://localhost:8080/"
        },
        "id": "YfOUgEtvBWEi",
        "outputId": "a1b46d8d-2473-44e2-a073-60dc7b8e243c"
      },
      "outputs": [
        {
          "output_type": "stream",
          "name": "stdout",
          "text": [
            "Requirement already satisfied: requests in /usr/local/lib/python3.10/dist-packages (2.31.0)\n",
            "Requirement already satisfied: charset-normalizer<4,>=2 in /usr/local/lib/python3.10/dist-packages (from requests) (3.3.2)\n",
            "Requirement already satisfied: idna<4,>=2.5 in /usr/local/lib/python3.10/dist-packages (from requests) (3.6)\n",
            "Requirement already satisfied: urllib3<3,>=1.21.1 in /usr/local/lib/python3.10/dist-packages (from requests) (2.0.7)\n",
            "Requirement already satisfied: certifi>=2017.4.17 in /usr/local/lib/python3.10/dist-packages (from requests) (2023.11.17)\n"
          ]
        }
      ],
      "source": [
        "pip install requests"
      ]
    },
    {
      "cell_type": "code",
      "source": [
        "import requests\n",
        "\n",
        "API_KEY = 'fca_live_koJJ2n1MCEak7XkB60LSVveRGhXtpNTxIXFBKHAL'\n",
        "BASE_URL = f'https://api.freecurrencyapi.com/v1/latest?apikey={API_KEY}'\n",
        "\n",
        "CURRENCY = [\"USD\", \"CAD\", \"EUR\", \"AUD\", \"CNY\", \"INR\"]\n"
      ],
      "metadata": {
        "id": "QDGnmUh7Bi5K"
      },
      "execution_count": 18,
      "outputs": []
    },
    {
      "cell_type": "code",
      "source": [
        "def convert_currency(base):\n",
        "  currencies = \",\".join(CURRENCY)\n",
        "  url = f\"{BASE_URL}&base_currency={base}&currencies={currencies}\"\n",
        "  try:\n",
        "    response = requests.get(url)\n",
        "    data = response.json()\n",
        "    return data[\"data\"]\n",
        "  except Exception as e:\n",
        "    print(\"Invalid currency.\")\n",
        "    return None\n",
        "\n",
        "while True:\n",
        "\n",
        "  base = input(\"Enter base currency: \").upper()\n",
        "  curr = int(input(\"Enter currency: \"))\n",
        "  if base == \"Q\" and curr == \"Q\":\n",
        "    break\n",
        "  data = convert_currency(base)\n",
        "  del data[base]\n",
        "\n",
        "  if not data:\n",
        "    continue\n",
        "\n",
        "  for ticker, value in data.items():\n",
        "    print(f\"{ticker} : {value * curr}\")"
      ],
      "metadata": {
        "colab": {
          "base_uri": "https://localhost:8080/",
          "height": 522
        },
        "id": "X55N2K0UHfEt",
        "outputId": "cf3666d0-ce38-44df-85e2-8c98b8b7cceb"
      },
      "execution_count": 24,
      "outputs": [
        {
          "name": "stdout",
          "output_type": "stream",
          "text": [
            "Enter base currency: inr\n",
            "Enter currency: 5\n",
            "AUD : 0.089782418\n",
            "CAD : 0.0804824085\n",
            "CNY : 0.4288596325\n",
            "EUR : 0.055208649\n",
            "USD : 0.060167005\n",
            "Enter base currency: usd\n",
            "Enter currency: 5\n",
            "AUD : 7.4611008000000005\n",
            "CAD : 6.6882512065\n",
            "CNY : 35.6391042375\n",
            "EUR : 4.5879505824999995\n",
            "INR : 415.5101289695\n",
            "Enter base currency: q\n",
            "Enter currency: q\n"
          ]
        },
        {
          "output_type": "error",
          "ename": "ValueError",
          "evalue": "ignored",
          "traceback": [
            "\u001b[0;31m---------------------------------------------------------------------------\u001b[0m",
            "\u001b[0;31mValueError\u001b[0m                                Traceback (most recent call last)",
            "\u001b[0;32m<ipython-input-24-4ba19eed1a32>\u001b[0m in \u001b[0;36m<cell line: 12>\u001b[0;34m()\u001b[0m\n\u001b[1;32m     13\u001b[0m \u001b[0;34m\u001b[0m\u001b[0m\n\u001b[1;32m     14\u001b[0m   \u001b[0mbase\u001b[0m \u001b[0;34m=\u001b[0m \u001b[0minput\u001b[0m\u001b[0;34m(\u001b[0m\u001b[0;34m\"Enter base currency: \"\u001b[0m\u001b[0;34m)\u001b[0m\u001b[0;34m.\u001b[0m\u001b[0mupper\u001b[0m\u001b[0;34m(\u001b[0m\u001b[0;34m)\u001b[0m\u001b[0;34m\u001b[0m\u001b[0;34m\u001b[0m\u001b[0m\n\u001b[0;32m---> 15\u001b[0;31m   \u001b[0mcurr\u001b[0m \u001b[0;34m=\u001b[0m \u001b[0mint\u001b[0m\u001b[0;34m(\u001b[0m\u001b[0minput\u001b[0m\u001b[0;34m(\u001b[0m\u001b[0;34m\"Enter currency: \"\u001b[0m\u001b[0;34m)\u001b[0m\u001b[0;34m)\u001b[0m\u001b[0;34m\u001b[0m\u001b[0;34m\u001b[0m\u001b[0m\n\u001b[0m\u001b[1;32m     16\u001b[0m   \u001b[0;32mif\u001b[0m \u001b[0mbase\u001b[0m \u001b[0;34m==\u001b[0m \u001b[0;34m\"Q\"\u001b[0m \u001b[0;32mand\u001b[0m \u001b[0mcurr\u001b[0m \u001b[0;34m==\u001b[0m \u001b[0;34m\"Q\"\u001b[0m\u001b[0;34m:\u001b[0m\u001b[0;34m\u001b[0m\u001b[0;34m\u001b[0m\u001b[0m\n\u001b[1;32m     17\u001b[0m     \u001b[0;32mbreak\u001b[0m\u001b[0;34m\u001b[0m\u001b[0;34m\u001b[0m\u001b[0m\n",
            "\u001b[0;31mValueError\u001b[0m: invalid literal for int() with base 10: 'q'"
          ]
        }
      ]
    },
    {
      "cell_type": "code",
      "source": [],
      "metadata": {
        "id": "IQpWPTiKIJMv"
      },
      "execution_count": null,
      "outputs": []
    }
  ]
}